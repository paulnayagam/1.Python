{
 "cells": [
  {
   "cell_type": "code",
   "execution_count": 43,
   "id": "38d9861c-51bc-41b2-affb-3ca267dc1e19",
   "metadata": {},
   "outputs": [
    {
     "name": "stdout",
     "output_type": "stream",
     "text": [
      "0\n",
      "1\n",
      "2\n",
      "3\n",
      "4\n",
      "5\n",
      "6\n",
      "7\n",
      "8\n",
      "9\n",
      "10\n",
      "11\n",
      "12\n",
      "13\n",
      "14\n",
      "15\n",
      "16\n",
      "17\n",
      "18\n",
      "19\n",
      "20\n"
     ]
    }
   ],
   "source": [
    "for num in range (0,21):\n",
    "    print(num);"
   ]
  },
  {
   "cell_type": "code",
   "execution_count": 6,
   "id": "dec1eb67-6c52-4e70-8a1f-c295757ba2e2",
   "metadata": {},
   "outputs": [
    {
     "name": "stdout",
     "output_type": "stream",
     "text": [
      "10\n",
      "11\n",
      "12\n",
      "13\n",
      "14\n",
      "15\n",
      "16\n",
      "17\n",
      "18\n",
      "19\n"
     ]
    }
   ],
   "source": [
    "for num in range (10,20):\n",
    "    print(num);"
   ]
  },
  {
   "cell_type": "code",
   "execution_count": 9,
   "id": "d50e6bde-04db-4111-9f90-bcfa0152f478",
   "metadata": {},
   "outputs": [
    {
     "name": "stdout",
     "output_type": "stream",
     "text": [
      "[10, 20, 14, 55, 43, 87, 76]\n",
      "No of elements in list are: 7\n"
     ]
    }
   ],
   "source": [
    "element_list = [10, 20, 14, 55, 43, 87, 76]\n",
    "print(element_list)\n",
    "print(\"No of elements in list are:\", len(element_list))"
   ]
  },
  {
   "cell_type": "code",
   "execution_count": 19,
   "id": "bb30c399-e08a-482e-97dd-6cb020ce0d1a",
   "metadata": {},
   "outputs": [
    {
     "name": "stdout",
     "output_type": "stream",
     "text": [
      "A\n",
      "r\n",
      "t\n",
      "i\n",
      "f\n",
      "i\n",
      "c\n",
      "i\n",
      "a\n",
      "l\n",
      " \n",
      "I\n",
      "n\n",
      "t\n",
      "e\n",
      "l\n",
      "l\n",
      "i\n",
      "g\n",
      "e\n",
      "n\n",
      "c\n",
      "e\n"
     ]
    }
   ],
   "source": [
    "string_name = \"Artificial Intelligence\";\n",
    "# Iterate over index\n",
    "for element in range(0, len(string_name)):\n",
    "    print(string_name[element])"
   ]
  },
  {
   "cell_type": "code",
   "execution_count": 28,
   "id": "2d6c5ff9-763c-4c5f-be48-62f7b759f036",
   "metadata": {},
   "outputs": [
    {
     "name": "stdin",
     "output_type": "stream",
     "text": [
      "-Your Name- \n",
      "-Your age- \n",
      "-Your Profession- \n"
     ]
    },
    {
     "name": "stdout",
     "output_type": "stream",
     "text": [
      "\n",
      "\n",
      "\n"
     ]
    }
   ],
   "source": [
    "name=input(\"-Your Name-\")\n",
    "age=input(\"-Your age-\")\n",
    "profession=input(\"-Your Profession-\")\n",
    "print(name);\n",
    "print(age);\n",
    "print(profession);"
   ]
  },
  {
   "cell_type": "code",
   "execution_count": 32,
   "id": "48293f7f-e6e0-4547-a2e0-adac1d3686ac",
   "metadata": {},
   "outputs": [
    {
     "name": "stdout",
     "output_type": "stream",
     "text": [
      "Print mixered datatype using Tuples: \n",
      "(1, 'Welcome', 2, 'Hope')\n"
     ]
    }
   ],
   "source": [
    "Tuple1 = (1, 'Welcome', 2, 'Hope')\n",
    "print(\"Print mixered datatype using Tuples: \")\n",
    "print(Tuple1)"
   ]
  },
  {
   "cell_type": "code",
   "execution_count": 35,
   "id": "3a3ea28c-c650-4d97-8bf9-0211c0e95caf",
   "metadata": {},
   "outputs": [
    {
     "name": "stdout",
     "output_type": "stream",
     "text": [
      "Print mixered datatype using Tuples: \n",
      "((0, 1, 2, 3), ('python', 'HOPE'))\n"
     ]
    }
   ],
   "source": [
    "Tuple1 = ((0, 1, 2, 3), ('python', 'HOPE'))\n",
    "print(\"Print mixered datatype using Tuples: \")\n",
    "print(Tuple1)"
   ]
  },
  {
   "cell_type": "code",
   "execution_count": 40,
   "id": "371ae73b-10af-40e1-bd8c-460b8d65a4f2",
   "metadata": {},
   "outputs": [
    {
     "name": "stdout",
     "output_type": "stream",
     "text": [
      "19 is odd\n",
      "25 is odd\n",
      "1 is odd\n"
     ]
    }
   ],
   "source": [
    "# Python program to print odd Numbers in a List\n",
    "\n",
    "# list of numbers\n",
    "list1 = [20,10,16,19,25,1,276,188]\n",
    "\n",
    "# iterating each number in list\n",
    "for num in list1:\n",
    "\n",
    "    # checking condition\n",
    "    if num % 2 != 0:\n",
    "       print(num,\"is odd\")"
   ]
  },
  {
   "cell_type": "code",
   "execution_count": 52,
   "id": "89c2b8ff-0a7a-40b0-a69d-6bb651535951",
   "metadata": {},
   "outputs": [
    {
     "name": "stdout",
     "output_type": "stream",
     "text": [
      "20 is even\n",
      "10 is even\n",
      "16 is even\n",
      "276 is even\n",
      "188 is even\n"
     ]
    }
   ],
   "source": [
    "# Python program to print even Numbers in a List\n",
    "\n",
    "# list of numbers\n",
    "list1 = [20,10,16,19,25,1,276,188]\n",
    "\n",
    "# iterating each number in list\n",
    "for num1 in list1:\n",
    "\n",
    "    # checking condition\n",
    "    if num1 % 2 == 0:\n",
    "       print(num1,\"is even\")"
   ]
  },
  {
   "cell_type": "code",
   "execution_count": null,
   "id": "77ec7b0f-c737-4f54-9437-0aaab935f3d9",
   "metadata": {},
   "outputs": [],
   "source": []
  },
  {
   "cell_type": "code",
   "execution_count": null,
   "id": "5ad08c93-dd30-4b25-b3cc-c28d9c21ffa3",
   "metadata": {},
   "outputs": [],
   "source": []
  }
 ],
 "metadata": {
  "kernelspec": {
   "display_name": "Python 3 (ipykernel)",
   "language": "python",
   "name": "python3"
  },
  "language_info": {
   "codemirror_mode": {
    "name": "ipython",
    "version": 3
   },
   "file_extension": ".py",
   "mimetype": "text/x-python",
   "name": "python",
   "nbconvert_exporter": "python",
   "pygments_lexer": "ipython3",
   "version": "3.12.4"
  }
 },
 "nbformat": 4,
 "nbformat_minor": 5
}
