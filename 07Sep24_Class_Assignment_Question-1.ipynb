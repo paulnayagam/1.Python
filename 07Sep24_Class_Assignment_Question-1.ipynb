{
 "cells": [
  {
   "cell_type": "code",
   "execution_count": 12,
   "id": "d83ce882-05f9-4cc3-b2a0-c4fcc522899f",
   "metadata": {},
   "outputs": [],
   "source": [
    "class aitest():\n",
    "    def Subfields():\n",
    "        list = [\"Machine Learning\",\"Neural Networks\",\"Vision\",\"Robotics\",\"Speech Processing\",\"Natural Language Processing\"]\n",
    "        print(\"Sub-fields in AI are:\")\n",
    "        for val in list:\n",
    "            print(val)"
   ]
  },
  {
   "cell_type": "code",
   "execution_count": 13,
   "id": "00526a55-e40c-4d9b-825f-585f9c2a06d7",
   "metadata": {},
   "outputs": [
    {
     "name": "stdout",
     "output_type": "stream",
     "text": [
      "Sub-fields in AI are:\n",
      "Machine Learning\n",
      "Neural Networks\n",
      "Vision\n",
      "Robotics\n",
      "Speech Processing\n",
      "Natural Language Processing\n"
     ]
    }
   ],
   "source": [
    "   aitest.Subfields()     "
   ]
  },
  {
   "cell_type": "code",
   "execution_count": 15,
   "id": "c1dada89-10b2-4ad8-bf76-9340cbea3293",
   "metadata": {},
   "outputs": [],
   "source": [
    "class OddEven():\n",
    "    def OddEven():\n",
    "        num=int(input(\"Enter a number:\"))\n",
    "        if(num%2==0):\n",
    "            print(num,\"is even number\")\n",
    "        else:\n",
    "            print(num,\"is odd number\")"
   ]
  },
  {
   "cell_type": "code",
   "execution_count": 17,
   "id": "dbd583cc-42c4-4c4d-a411-2b33494debd6",
   "metadata": {},
   "outputs": [
    {
     "name": "stdin",
     "output_type": "stream",
     "text": [
      "Enter a number: 62\n"
     ]
    },
    {
     "name": "stdout",
     "output_type": "stream",
     "text": [
      "62 is even number\n"
     ]
    }
   ],
   "source": [
    "OddEven.OddEven()"
   ]
  },
  {
   "cell_type": "code",
   "execution_count": 20,
   "id": "b6e88797-9d03-4b2c-a494-c13c6c06c96f",
   "metadata": {},
   "outputs": [],
   "source": [
    "class ElegiblityForMarriage():\n",
    "    def eligiblity():\n",
    "        gender=input(\"Your Gender:\")\n",
    "        age=int(input(\"Your Age:\"))\n",
    "        if((gender == \"male\") & (age>=21)):\n",
    "            print(\"Eligible\")\n",
    "        elif((gender == \"female\") & (age>=18)):\n",
    "            print(\"Eligible\")\n",
    "        else:\n",
    "            print(\"Not Eligible\")\n",
    "    "
   ]
  },
  {
   "cell_type": "code",
   "execution_count": 21,
   "id": "cce033af-d92f-406c-a07a-66f56a9e17d9",
   "metadata": {},
   "outputs": [
    {
     "name": "stdin",
     "output_type": "stream",
     "text": [
      "Your Gender: male\n",
      "Your Age: 50\n"
     ]
    },
    {
     "name": "stdout",
     "output_type": "stream",
     "text": [
      "Eligible\n"
     ]
    }
   ],
   "source": [
    "ElegiblityForMarriage.eligiblity()"
   ]
  },
  {
   "cell_type": "code",
   "execution_count": null,
   "id": "8f9a5ec9-1aeb-4393-a2d0-160f3c59be77",
   "metadata": {},
   "outputs": [],
   "source": []
  },
  {
   "cell_type": "code",
   "execution_count": 22,
   "id": "2ba6a7f4-3d53-4dcc-9521-15c321e47a15",
   "metadata": {},
   "outputs": [],
   "source": [
    "class FindPercent():\n",
    "    def percentage():\n",
    "        sub1=int(input(\"Subject1 =\"))\n",
    "        sub2=int(input(\"Subject2 =\"))\n",
    "        sub3=int(input(\"Subject3 =\"))\n",
    "        sub4=int(input(\"Subject4 =\"))\n",
    "        sub5=int(input(\"Subject5 =\"))\n",
    "        total=sub1+sub2+sub3+sub4+sub5\n",
    "        print(\"total= \",total)\n",
    "        print(\"percentage= \",total/5)\n",
    "    "
   ]
  },
  {
   "cell_type": "code",
   "execution_count": 23,
   "id": "141ed9ee-0853-4b44-b020-27af3d828dca",
   "metadata": {},
   "outputs": [
    {
     "name": "stdin",
     "output_type": "stream",
     "text": [
      "Subject1 = 20\n",
      "Subject2 = 30\n",
      "Subject3 = 10\n",
      "Subject4 = 10\n",
      "Subject5 = 30\n"
     ]
    },
    {
     "name": "stdout",
     "output_type": "stream",
     "text": [
      "total=  100\n",
      "percentage=  20.0\n"
     ]
    }
   ],
   "source": [
    "FindPercent.percentage()"
   ]
  },
  {
   "cell_type": "code",
   "execution_count": null,
   "id": "e8766437-fc8b-42f7-b347-fdfbb15246e3",
   "metadata": {},
   "outputs": [],
   "source": []
  },
  {
   "cell_type": "code",
   "execution_count": 24,
   "id": "651c3fb4-8f9d-4355-892d-426b7209b2bf",
   "metadata": {},
   "outputs": [],
   "source": [
    "class triangle():\n",
    "    def triangle():\n",
    "        height=int(input(\"Height: \"))\n",
    "        breadth=int(input(\"Breadth: \"))\n",
    "        print(\"Area formula: (Height*Breadth)/2\")\n",
    "        print(\"Area of Triangle: \",(height*breadth)/2)\n",
    "        height1=int(input(\"Height1: \"))\n",
    "        height2=int(input(\"Height2: \"))\n",
    "        breadth=int(input(\"Breadth: \"))\n",
    "        print(\"Perimeter formula: Height1+Height2+Breadth\")\n",
    "        print(\"Perimeter of Triangle: \",height1+height2+breadth)\n",
    "    "
   ]
  },
  {
   "cell_type": "code",
   "execution_count": 25,
   "id": "81c94898-6b6d-42c6-9625-ca1d31768039",
   "metadata": {},
   "outputs": [
    {
     "name": "stdin",
     "output_type": "stream",
     "text": [
      "Height:  10\n",
      "Breadth:  10\n"
     ]
    },
    {
     "name": "stdout",
     "output_type": "stream",
     "text": [
      "Area formula: (Height*Breadth)/2\n",
      "Area of Triangle:  50.0\n"
     ]
    },
    {
     "name": "stdin",
     "output_type": "stream",
     "text": [
      "Height1:  10\n",
      "Height2:  10\n",
      "Breadth:  10\n"
     ]
    },
    {
     "name": "stdout",
     "output_type": "stream",
     "text": [
      "Perimeter formula: Height1+Height2+Breadth\n",
      "Perimeter of Triangle:  30\n"
     ]
    }
   ],
   "source": [
    "triangle.triangle()"
   ]
  },
  {
   "cell_type": "code",
   "execution_count": null,
   "id": "961553fa-cd50-4c9b-a69e-e386a21ded0b",
   "metadata": {},
   "outputs": [],
   "source": []
  },
  {
   "cell_type": "code",
   "execution_count": 3,
   "id": "73dd1bc8-c2af-482c-bbed-272e689ec6b3",
   "metadata": {},
   "outputs": [],
   "source": []
  }
 ],
 "metadata": {
  "kernelspec": {
   "display_name": "Python 3 (ipykernel)",
   "language": "python",
   "name": "python3"
  },
  "language_info": {
   "codemirror_mode": {
    "name": "ipython",
    "version": 3
   },
   "file_extension": ".py",
   "mimetype": "text/x-python",
   "name": "python",
   "nbconvert_exporter": "python",
   "pygments_lexer": "ipython3",
   "version": "3.12.4"
  }
 },
 "nbformat": 4,
 "nbformat_minor": 5
}
