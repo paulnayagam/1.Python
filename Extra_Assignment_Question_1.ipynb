{
 "cells": [
  {
   "cell_type": "code",
   "execution_count": 2,
   "id": "80b528b4-07df-4fd9-bb47-6929f1af6ecb",
   "metadata": {},
   "outputs": [
    {
     "name": "stdout",
     "output_type": "stream",
     "text": [
      "HOPE AI\n"
     ]
    }
   ],
   "source": [
    "print(\"HOPE AI\")"
   ]
  },
  {
   "cell_type": "code",
   "execution_count": 6,
   "id": "723d874b-1ea8-4564-9c18-c8c155b0e983",
   "metadata": {},
   "outputs": [
    {
     "name": "stdin",
     "output_type": "stream",
     "text": [
      "Enter your Institute Name: HOPE AI\n"
     ]
    }
   ],
   "source": [
    "name=input(\"Enter your Institute Name:\");"
   ]
  },
  {
   "cell_type": "code",
   "execution_count": 10,
   "id": "743bb4df-ba30-43ce-b5cb-04fbf39e6168",
   "metadata": {},
   "outputs": [
    {
     "name": "stdin",
     "output_type": "stream",
     "text": [
      "Enter your name: Paul\n",
      "Enter your age: 43\n",
      "Enter your school name: Popes\n",
      "Enter your degree: MCA\n"
     ]
    }
   ],
   "source": [
    "name=input(\"Enter your name:\");\n",
    "age=int(input(\"Enter your age:\"));\n",
    "school=input(\"Enter your school name:\");\n",
    "degree=input(\"Enter your degree:\");\n"
   ]
  },
  {
   "cell_type": "code",
   "execution_count": 4,
   "id": "e76e4369-5660-4f6c-a5c6-c32bbbd98a4e",
   "metadata": {},
   "outputs": [
    {
     "name": "stdin",
     "output_type": "stream",
     "text": [
      "a= 10\n",
      "b= 2\n"
     ]
    },
    {
     "name": "stdout",
     "output_type": "stream",
     "text": [
      "add= 12\n"
     ]
    }
   ],
   "source": [
    "a=int(input(\"a=\"));\n",
    "b=int(input(\"b=\"));\n",
    "print(\"add=\",+(a+b));"
   ]
  },
  {
   "cell_type": "code",
   "execution_count": null,
   "id": "dea3fe45-9a8a-4221-a8cc-b2e62712b2c7",
   "metadata": {},
   "outputs": [],
   "source": []
  },
  {
   "cell_type": "code",
   "execution_count": 5,
   "id": "66e1ff34-f6b0-4fdb-adc5-fe31c57a21fc",
   "metadata": {},
   "outputs": [
    {
     "name": "stdin",
     "output_type": "stream",
     "text": [
      "a= 10\n",
      "b= 2\n"
     ]
    },
    {
     "name": "stdout",
     "output_type": "stream",
     "text": [
      "sub= 8\n"
     ]
    }
   ],
   "source": [
    "a=int(input(\"a=\"));\n",
    "b=int(input(\"b=\"));\n",
    "print(\"sub=\",+(a-b));"
   ]
  },
  {
   "cell_type": "code",
   "execution_count": 6,
   "id": "9b9181d1-3ec1-4376-92f5-7d2da963d64a",
   "metadata": {},
   "outputs": [
    {
     "name": "stdin",
     "output_type": "stream",
     "text": [
      "a= 2\n",
      "b= 3\n"
     ]
    },
    {
     "name": "stdout",
     "output_type": "stream",
     "text": [
      "mul= 6\n"
     ]
    }
   ],
   "source": [
    "a=int(input(\"a=\"));\n",
    "b=int(input(\"b=\"));\n",
    "print(\"mul=\",+(a*b));"
   ]
  },
  {
   "cell_type": "code",
   "execution_count": 9,
   "id": "bfd2a114-dc54-45b2-aed6-740fb44f31d8",
   "metadata": {},
   "outputs": [
    {
     "name": "stdin",
     "output_type": "stream",
     "text": [
      "a= 76\n",
      "b= 31\n"
     ]
    },
    {
     "name": "stdout",
     "output_type": "stream",
     "text": [
      "div= 2.4516129032258065\n"
     ]
    }
   ],
   "source": [
    "a=int(input(\"a=\"));\n",
    "b=int(input(\"b=\"));\n",
    "print(\"float div=\",+(a/b));"
   ]
  },
  {
   "cell_type": "code",
   "execution_count": 10,
   "id": "bcdd9a0a-0c40-45e0-ad9c-87c0c5899b0a",
   "metadata": {},
   "outputs": [
    {
     "name": "stdin",
     "output_type": "stream",
     "text": [
      "a= 76\n",
      "b= 31\n"
     ]
    },
    {
     "name": "stdout",
     "output_type": "stream",
     "text": [
      "floor div= 2\n"
     ]
    }
   ],
   "source": [
    "a=int(input(\"a=\"));\n",
    "b=int(input(\"b=\"));\n",
    "print(\"floor div=\",+(a//b));"
   ]
  },
  {
   "cell_type": "code",
   "execution_count": 14,
   "id": "efcc667e-1f59-4d27-98df-bc700e504c48",
   "metadata": {},
   "outputs": [
    {
     "name": "stdin",
     "output_type": "stream",
     "text": [
      "a= 76\n",
      "b= 31\n"
     ]
    },
    {
     "name": "stdout",
     "output_type": "stream",
     "text": [
      "modulo div= 14\n"
     ]
    }
   ],
   "source": [
    "a=int(input(\"a=\"));\n",
    "b=int(input(\"b=\"));\n",
    "print(\"modulo div=\",+(a % b));"
   ]
  },
  {
   "cell_type": "code",
   "execution_count": 15,
   "id": "31f80333-fe0a-40de-a1cf-ed35c3b4e52f",
   "metadata": {},
   "outputs": [
    {
     "name": "stdin",
     "output_type": "stream",
     "text": [
      "a= 4\n",
      "b= 4\n"
     ]
    },
    {
     "name": "stdout",
     "output_type": "stream",
     "text": [
      "modulo div= 256\n"
     ]
    }
   ],
   "source": [
    "a=int(input(\"a=\"));\n",
    "b=int(input(\"b=\"));\n",
    "print(\"power=\",+(pow(a,b)));"
   ]
  },
  {
   "cell_type": "code",
   "execution_count": null,
   "id": "8721ea0c-524f-4e50-9a49-ab41d1d12e88",
   "metadata": {},
   "outputs": [],
   "source": []
  }
 ],
 "metadata": {
  "kernelspec": {
   "display_name": "Python 3 (ipykernel)",
   "language": "python",
   "name": "python3"
  },
  "language_info": {
   "codemirror_mode": {
    "name": "ipython",
    "version": 3
   },
   "file_extension": ".py",
   "mimetype": "text/x-python",
   "name": "python",
   "nbconvert_exporter": "python",
   "pygments_lexer": "ipython3",
   "version": "3.12.4"
  }
 },
 "nbformat": 4,
 "nbformat_minor": 5
}
